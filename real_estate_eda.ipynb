{
 "cells": [
  {
   "cell_type": "markdown",
   "id": "74375d12-9c20-4f73-87ee-17f46b84503a",
   "metadata": {},
   "source": [
    "## Local Real Estate"
   ]
  },
  {
   "cell_type": "code",
   "execution_count": 1,
   "id": "faf80b91-1d31-4c57-ac68-ca6798b3ed20",
   "metadata": {
    "execution": {
     "iopub.execute_input": "2024-09-11T18:24:01.522493Z",
     "iopub.status.busy": "2024-09-11T18:24:01.521647Z",
     "iopub.status.idle": "2024-09-11T18:24:02.018481Z",
     "shell.execute_reply": "2024-09-11T18:24:02.018075Z",
     "shell.execute_reply.started": "2024-09-11T18:24:01.522443Z"
    }
   },
   "outputs": [],
   "source": [
    "# Dependencies\n",
    "import pandas as pd\n",
    "import matplotlib as plt\n",
    "import numpy as np\n",
    "import seaborn as sns\n",
    "from pathlib import Path"
   ]
  },
  {
   "cell_type": "code",
   "execution_count": 2,
   "id": "fad565b2-c143-46fa-a6cf-6af12dc90f63",
   "metadata": {
    "execution": {
     "iopub.execute_input": "2024-09-11T18:24:02.082260Z",
     "iopub.status.busy": "2024-09-11T18:24:02.082112Z",
     "iopub.status.idle": "2024-09-11T18:24:02.084227Z",
     "shell.execute_reply": "2024-09-11T18:24:02.083920Z",
     "shell.execute_reply.started": "2024-09-11T18:24:02.082248Z"
    }
   },
   "outputs": [],
   "source": [
    "# file path\n",
    "p = Path.cwd()\n",
    "p1 = f'{p}/Comp_Crunch_Files/Aug24_Starter_Homes'\n",
    "p2 = f'{p1}/Aug24_starter_'"
   ]
  },
  {
   "cell_type": "code",
   "execution_count": 3,
   "id": "faa19bcc-80b1-43ae-8ef5-d894893b1bf1",
   "metadata": {
    "execution": {
     "iopub.execute_input": "2024-09-11T18:24:02.625129Z",
     "iopub.status.busy": "2024-09-11T18:24:02.624521Z",
     "iopub.status.idle": "2024-09-11T18:24:02.631511Z",
     "shell.execute_reply": "2024-09-11T18:24:02.630680Z",
     "shell.execute_reply.started": "2024-09-11T18:24:02.625095Z"
    }
   },
   "outputs": [
    {
     "data": {
      "text/plain": [
       "'/Users/cherifarkam/Desktop/Data_Science/Projects/Repositories/Local_Real_Estate_Analysis/Comp_Crunch_Files/Aug24_Starter_Homes/Aug24_starter_'"
      ]
     },
     "execution_count": 3,
     "metadata": {},
     "output_type": "execute_result"
    }
   ],
   "source": [
    "p2"
   ]
  },
  {
   "cell_type": "code",
   "execution_count": 4,
   "id": "6df41722-a258-4936-8acd-1f752b2d03ef",
   "metadata": {
    "execution": {
     "iopub.execute_input": "2024-09-11T18:24:03.079924Z",
     "iopub.status.busy": "2024-09-11T18:24:03.079245Z",
     "iopub.status.idle": "2024-09-11T18:24:03.085313Z",
     "shell.execute_reply": "2024-09-11T18:24:03.084472Z",
     "shell.execute_reply.started": "2024-09-11T18:24:03.079878Z"
    }
   },
   "outputs": [],
   "source": [
    "# Enter zip codes into list\n",
    "zipcodes = [91301, 91320, 91360, 91361, 91362, 91377]"
   ]
  },
  {
   "cell_type": "code",
   "execution_count": 5,
   "id": "71b02142-56f3-463c-bd41-cdd26fc12270",
   "metadata": {
    "execution": {
     "iopub.execute_input": "2024-09-11T18:24:03.654266Z",
     "iopub.status.busy": "2024-09-11T18:24:03.653565Z",
     "iopub.status.idle": "2024-09-11T18:24:03.699639Z",
     "shell.execute_reply": "2024-09-11T18:24:03.699127Z",
     "shell.execute_reply.started": "2024-09-11T18:24:03.654232Z"
    }
   },
   "outputs": [
    {
     "data": {
      "text/html": [
       "<div>\n",
       "<style scoped>\n",
       "    .dataframe tbody tr th:only-of-type {\n",
       "        vertical-align: middle;\n",
       "    }\n",
       "\n",
       "    .dataframe tbody tr th {\n",
       "        vertical-align: top;\n",
       "    }\n",
       "\n",
       "    .dataframe thead th {\n",
       "        text-align: right;\n",
       "    }\n",
       "</style>\n",
       "<table border=\"1\" class=\"dataframe\">\n",
       "  <thead>\n",
       "    <tr style=\"text-align: right;\">\n",
       "      <th></th>\n",
       "      <th>address</th>\n",
       "      <th>zipCode</th>\n",
       "      <th>city</th>\n",
       "      <th>state</th>\n",
       "      <th>price</th>\n",
       "      <th>bed</th>\n",
       "      <th>bath</th>\n",
       "      <th>sqft</th>\n",
       "      <th>pricePerSf</th>\n",
       "      <th>lotArea</th>\n",
       "      <th>lotAreaType</th>\n",
       "      <th>dateSold</th>\n",
       "      <th>dateSoldNumeric</th>\n",
       "      <th>zillowUrl</th>\n",
       "      <th>latitude</th>\n",
       "      <th>longitude</th>\n",
       "      <th>homeType</th>\n",
       "      <th>zestimate</th>\n",
       "      <th>rentZestimate</th>\n",
       "      <th>imageUrl</th>\n",
       "    </tr>\n",
       "  </thead>\n",
       "  <tbody>\n",
       "    <tr>\n",
       "      <th>0</th>\n",
       "      <td>3823 Cottonwood Grove Trl, Calabasas, CA 91301</td>\n",
       "      <td>91301</td>\n",
       "      <td>Calabasas</td>\n",
       "      <td>CA</td>\n",
       "      <td>1315000</td>\n",
       "      <td>3</td>\n",
       "      <td>2.0</td>\n",
       "      <td>1355</td>\n",
       "      <td>970.48</td>\n",
       "      <td>8958.0</td>\n",
       "      <td>sqft</td>\n",
       "      <td>8/29/2024</td>\n",
       "      <td>1724914800000</td>\n",
       "      <td>https://zillow.com/homedetails/3823-Cottonwood...</td>\n",
       "      <td>34.130390</td>\n",
       "      <td>-118.709940</td>\n",
       "      <td>SINGLE_FAMILY</td>\n",
       "      <td>1315000.0</td>\n",
       "      <td>4986</td>\n",
       "      <td>https://photos.zillowstatic.com/fp/4fac927a6e5...</td>\n",
       "    </tr>\n",
       "    <tr>\n",
       "      <th>1</th>\n",
       "      <td>29727 Canwood St, Agoura Hills, CA 91301</td>\n",
       "      <td>91301</td>\n",
       "      <td>Agoura Hills</td>\n",
       "      <td>CA</td>\n",
       "      <td>740000</td>\n",
       "      <td>3</td>\n",
       "      <td>3.0</td>\n",
       "      <td>1749</td>\n",
       "      <td>423.10</td>\n",
       "      <td>1121.0</td>\n",
       "      <td>sqft</td>\n",
       "      <td>8/27/2024</td>\n",
       "      <td>1724742000000</td>\n",
       "      <td>https://zillow.com/homedetails/29727-Canwood-S...</td>\n",
       "      <td>34.148308</td>\n",
       "      <td>-118.773674</td>\n",
       "      <td>TOWNHOUSE</td>\n",
       "      <td>739700.0</td>\n",
       "      <td>4308</td>\n",
       "      <td>https://photos.zillowstatic.com/fp/8de34baabc3...</td>\n",
       "    </tr>\n",
       "  </tbody>\n",
       "</table>\n",
       "</div>"
      ],
      "text/plain": [
       "                                          address  zipCode          city  \\\n",
       "0  3823 Cottonwood Grove Trl, Calabasas, CA 91301    91301     Calabasas   \n",
       "1        29727 Canwood St, Agoura Hills, CA 91301    91301  Agoura Hills   \n",
       "\n",
       "  state    price  bed  bath  sqft  pricePerSf  lotArea lotAreaType   dateSold  \\\n",
       "0    CA  1315000    3   2.0  1355      970.48   8958.0        sqft  8/29/2024   \n",
       "1    CA   740000    3   3.0  1749      423.10   1121.0        sqft  8/27/2024   \n",
       "\n",
       "   dateSoldNumeric                                          zillowUrl  \\\n",
       "0    1724914800000  https://zillow.com/homedetails/3823-Cottonwood...   \n",
       "1    1724742000000  https://zillow.com/homedetails/29727-Canwood-S...   \n",
       "\n",
       "    latitude   longitude       homeType  zestimate  rentZestimate  \\\n",
       "0  34.130390 -118.709940  SINGLE_FAMILY  1315000.0           4986   \n",
       "1  34.148308 -118.773674      TOWNHOUSE   739700.0           4308   \n",
       "\n",
       "                                            imageUrl  \n",
       "0  https://photos.zillowstatic.com/fp/4fac927a6e5...  \n",
       "1  https://photos.zillowstatic.com/fp/8de34baabc3...  "
      ]
     },
     "execution_count": 5,
     "metadata": {},
     "output_type": "execute_result"
    }
   ],
   "source": [
    "# Create a list of dataframes from csv files in repository\n",
    "df_list = []\n",
    "for i in range(len(zipcodes)):\n",
    "    df = pd.read_csv(f'{p2}{zipcodes[i]}.csv')\n",
    "    df_list.append(df)\n",
    "\n",
    "df_list[0].head(2)"
   ]
  },
  {
   "cell_type": "code",
   "execution_count": 6,
   "id": "87941c6f-6450-402d-9c83-57218874f929",
   "metadata": {
    "execution": {
     "iopub.execute_input": "2024-09-11T18:24:04.189399Z",
     "iopub.status.busy": "2024-09-11T18:24:04.188550Z",
     "iopub.status.idle": "2024-09-11T18:24:04.200857Z",
     "shell.execute_reply": "2024-09-11T18:24:04.200171Z",
     "shell.execute_reply.started": "2024-09-11T18:24:04.189351Z"
    }
   },
   "outputs": [
    {
     "data": {
      "text/plain": [
       "(1413, 20)"
      ]
     },
     "execution_count": 6,
     "metadata": {},
     "output_type": "execute_result"
    }
   ],
   "source": [
    "# create union style joins for the list of dataframes\n",
    "re_df = pd.concat(df_list)\n",
    "\n",
    "re_df.shape"
   ]
  },
  {
   "cell_type": "code",
   "execution_count": 7,
   "id": "4313aebd-e916-4a45-acbc-dcc7a317e79a",
   "metadata": {
    "execution": {
     "iopub.execute_input": "2024-09-11T18:24:04.875083Z",
     "iopub.status.busy": "2024-09-11T18:24:04.874341Z",
     "iopub.status.idle": "2024-09-11T18:24:04.882020Z",
     "shell.execute_reply": "2024-09-11T18:24:04.881054Z",
     "shell.execute_reply.started": "2024-09-11T18:24:04.875048Z"
    }
   },
   "outputs": [],
   "source": [
    "pd.set_option('max_colwidth', 100)"
   ]
  },
  {
   "cell_type": "code",
   "execution_count": 8,
   "id": "84f14c9d-3e6a-47e2-bea4-f62d37502cef",
   "metadata": {
    "execution": {
     "iopub.execute_input": "2024-09-11T18:24:05.790300Z",
     "iopub.status.busy": "2024-09-11T18:24:05.789507Z",
     "iopub.status.idle": "2024-09-11T18:24:05.817481Z",
     "shell.execute_reply": "2024-09-11T18:24:05.817045Z",
     "shell.execute_reply.started": "2024-09-11T18:24:05.790241Z"
    }
   },
   "outputs": [
    {
     "data": {
      "text/html": [
       "<div>\n",
       "<style scoped>\n",
       "    .dataframe tbody tr th:only-of-type {\n",
       "        vertical-align: middle;\n",
       "    }\n",
       "\n",
       "    .dataframe tbody tr th {\n",
       "        vertical-align: top;\n",
       "    }\n",
       "\n",
       "    .dataframe thead th {\n",
       "        text-align: right;\n",
       "    }\n",
       "</style>\n",
       "<table border=\"1\" class=\"dataframe\">\n",
       "  <thead>\n",
       "    <tr style=\"text-align: right;\">\n",
       "      <th></th>\n",
       "      <th>price</th>\n",
       "      <th>bed</th>\n",
       "      <th>bath</th>\n",
       "      <th>sqft</th>\n",
       "      <th>pricePerSf</th>\n",
       "      <th>lotArea</th>\n",
       "      <th>zestimate</th>\n",
       "      <th>rentZestimate</th>\n",
       "    </tr>\n",
       "  </thead>\n",
       "  <tbody>\n",
       "    <tr>\n",
       "      <th>count</th>\n",
       "      <td>1.413000e+03</td>\n",
       "      <td>1413.000000</td>\n",
       "      <td>1413.000000</td>\n",
       "      <td>1413.000000</td>\n",
       "      <td>1413.000000</td>\n",
       "      <td>1413.000000</td>\n",
       "      <td>1.378000e+03</td>\n",
       "      <td>1413.000000</td>\n",
       "    </tr>\n",
       "    <tr>\n",
       "      <th>mean</th>\n",
       "      <td>8.114481e+05</td>\n",
       "      <td>3.013447</td>\n",
       "      <td>2.182944</td>\n",
       "      <td>1426.234961</td>\n",
       "      <td>573.228719</td>\n",
       "      <td>4961.163149</td>\n",
       "      <td>9.176498e+05</td>\n",
       "      <td>4121.100495</td>\n",
       "    </tr>\n",
       "    <tr>\n",
       "      <th>std</th>\n",
       "      <td>2.385105e+05</td>\n",
       "      <td>0.615398</td>\n",
       "      <td>0.510484</td>\n",
       "      <td>226.649106</td>\n",
       "      <td>154.080395</td>\n",
       "      <td>3303.199620</td>\n",
       "      <td>2.060976e+05</td>\n",
       "      <td>627.141681</td>\n",
       "    </tr>\n",
       "    <tr>\n",
       "      <th>min</th>\n",
       "      <td>5.000000e+02</td>\n",
       "      <td>1.000000</td>\n",
       "      <td>1.000000</td>\n",
       "      <td>755.000000</td>\n",
       "      <td>0.380000</td>\n",
       "      <td>0.250000</td>\n",
       "      <td>4.009000e+05</td>\n",
       "      <td>1783.000000</td>\n",
       "    </tr>\n",
       "    <tr>\n",
       "      <th>25%</th>\n",
       "      <td>7.000000e+05</td>\n",
       "      <td>3.000000</td>\n",
       "      <td>2.000000</td>\n",
       "      <td>1280.000000</td>\n",
       "      <td>503.470000</td>\n",
       "      <td>1710.000000</td>\n",
       "      <td>7.865250e+05</td>\n",
       "      <td>3740.000000</td>\n",
       "    </tr>\n",
       "    <tr>\n",
       "      <th>50%</th>\n",
       "      <td>8.175000e+05</td>\n",
       "      <td>3.000000</td>\n",
       "      <td>2.000000</td>\n",
       "      <td>1450.000000</td>\n",
       "      <td>571.930000</td>\n",
       "      <td>5213.000000</td>\n",
       "      <td>9.061000e+05</td>\n",
       "      <td>4096.000000</td>\n",
       "    </tr>\n",
       "    <tr>\n",
       "      <th>75%</th>\n",
       "      <td>9.300000e+05</td>\n",
       "      <td>3.000000</td>\n",
       "      <td>2.000000</td>\n",
       "      <td>1625.000000</td>\n",
       "      <td>649.790000</td>\n",
       "      <td>7741.000000</td>\n",
       "      <td>1.015525e+06</td>\n",
       "      <td>4426.000000</td>\n",
       "    </tr>\n",
       "    <tr>\n",
       "      <th>max</th>\n",
       "      <td>2.075000e+06</td>\n",
       "      <td>5.000000</td>\n",
       "      <td>4.000000</td>\n",
       "      <td>1750.000000</td>\n",
       "      <td>1421.610000</td>\n",
       "      <td>10875.000000</td>\n",
       "      <td>2.087500e+06</td>\n",
       "      <td>7022.000000</td>\n",
       "    </tr>\n",
       "  </tbody>\n",
       "</table>\n",
       "</div>"
      ],
      "text/plain": [
       "              price          bed         bath         sqft   pricePerSf  \\\n",
       "count  1.413000e+03  1413.000000  1413.000000  1413.000000  1413.000000   \n",
       "mean   8.114481e+05     3.013447     2.182944  1426.234961   573.228719   \n",
       "std    2.385105e+05     0.615398     0.510484   226.649106   154.080395   \n",
       "min    5.000000e+02     1.000000     1.000000   755.000000     0.380000   \n",
       "25%    7.000000e+05     3.000000     2.000000  1280.000000   503.470000   \n",
       "50%    8.175000e+05     3.000000     2.000000  1450.000000   571.930000   \n",
       "75%    9.300000e+05     3.000000     2.000000  1625.000000   649.790000   \n",
       "max    2.075000e+06     5.000000     4.000000  1750.000000  1421.610000   \n",
       "\n",
       "            lotArea     zestimate  rentZestimate  \n",
       "count   1413.000000  1.378000e+03    1413.000000  \n",
       "mean    4961.163149  9.176498e+05    4121.100495  \n",
       "std     3303.199620  2.060976e+05     627.141681  \n",
       "min        0.250000  4.009000e+05    1783.000000  \n",
       "25%     1710.000000  7.865250e+05    3740.000000  \n",
       "50%     5213.000000  9.061000e+05    4096.000000  \n",
       "75%     7741.000000  1.015525e+06    4426.000000  \n",
       "max    10875.000000  2.087500e+06    7022.000000  "
      ]
     },
     "execution_count": 8,
     "metadata": {},
     "output_type": "execute_result"
    }
   ],
   "source": [
    "# Explore\n",
    "re_df.loc[:, ~re_df.columns.isin(['zipCode', 'dateSoldNumeric', 'latitude', 'longitude'])].describe() \n",
    "# OR 'dateSoldNumeric' OR 'latitude' OR 'longitude'].describe()"
   ]
  },
  {
   "cell_type": "code",
   "execution_count": 9,
   "id": "2ea6b641-612b-4a13-95cb-f60003e1f8c1",
   "metadata": {
    "execution": {
     "iopub.execute_input": "2024-09-11T18:24:06.624929Z",
     "iopub.status.busy": "2024-09-11T18:24:06.624308Z",
     "iopub.status.idle": "2024-09-11T18:24:06.633197Z",
     "shell.execute_reply": "2024-09-11T18:24:06.632639Z",
     "shell.execute_reply.started": "2024-09-11T18:24:06.624894Z"
    }
   },
   "outputs": [
    {
     "data": {
      "text/plain": [
       "(583, 20)"
      ]
     },
     "execution_count": 9,
     "metadata": {},
     "output_type": "execute_result"
    }
   ],
   "source": [
    "# Limit to homes less than 1400 sq ft with at least 2 bedrooms\n",
    "re_df = re_df[re_df['sqft'] < 1400]\n",
    "\n",
    "re_df.shape"
   ]
  },
  {
   "cell_type": "code",
   "execution_count": 10,
   "id": "c1c85a94-5572-4362-ae38-eb47a9c844e1",
   "metadata": {
    "execution": {
     "iopub.execute_input": "2024-09-11T18:24:07.468493Z",
     "iopub.status.busy": "2024-09-11T18:24:07.467707Z",
     "iopub.status.idle": "2024-09-11T18:24:07.496720Z",
     "shell.execute_reply": "2024-09-11T18:24:07.496195Z",
     "shell.execute_reply.started": "2024-09-11T18:24:07.468450Z"
    }
   },
   "outputs": [
    {
     "data": {
      "text/html": [
       "<div>\n",
       "<style scoped>\n",
       "    .dataframe tbody tr th:only-of-type {\n",
       "        vertical-align: middle;\n",
       "    }\n",
       "\n",
       "    .dataframe tbody tr th {\n",
       "        vertical-align: top;\n",
       "    }\n",
       "\n",
       "    .dataframe thead th {\n",
       "        text-align: right;\n",
       "    }\n",
       "</style>\n",
       "<table border=\"1\" class=\"dataframe\">\n",
       "  <thead>\n",
       "    <tr style=\"text-align: right;\">\n",
       "      <th></th>\n",
       "      <th>zipCode</th>\n",
       "      <th>price</th>\n",
       "      <th>bed</th>\n",
       "      <th>bath</th>\n",
       "      <th>sqft</th>\n",
       "      <th>pricePerSf</th>\n",
       "      <th>lotArea</th>\n",
       "      <th>dateSoldNumeric</th>\n",
       "      <th>latitude</th>\n",
       "      <th>longitude</th>\n",
       "      <th>zestimate</th>\n",
       "      <th>rentZestimate</th>\n",
       "    </tr>\n",
       "  </thead>\n",
       "  <tbody>\n",
       "    <tr>\n",
       "      <th>count</th>\n",
       "      <td>583.000000</td>\n",
       "      <td>5.830000e+02</td>\n",
       "      <td>583.000000</td>\n",
       "      <td>583.000000</td>\n",
       "      <td>583.000000</td>\n",
       "      <td>583.000000</td>\n",
       "      <td>583.000000</td>\n",
       "      <td>5.830000e+02</td>\n",
       "      <td>583.000000</td>\n",
       "      <td>583.000000</td>\n",
       "      <td>5.700000e+02</td>\n",
       "      <td>583.000000</td>\n",
       "    </tr>\n",
       "    <tr>\n",
       "      <th>mean</th>\n",
       "      <td>91345.332762</td>\n",
       "      <td>7.168015e+05</td>\n",
       "      <td>2.722127</td>\n",
       "      <td>2.006003</td>\n",
       "      <td>1200.303602</td>\n",
       "      <td>599.950892</td>\n",
       "      <td>4725.925253</td>\n",
       "      <td>1.673910e+12</td>\n",
       "      <td>34.182664</td>\n",
       "      <td>-118.866854</td>\n",
       "      <td>8.041937e+05</td>\n",
       "      <td>3706.756432</td>\n",
       "    </tr>\n",
       "    <tr>\n",
       "      <th>std</th>\n",
       "      <td>22.941036</td>\n",
       "      <td>1.924324e+05</td>\n",
       "      <td>0.610595</td>\n",
       "      <td>0.518107</td>\n",
       "      <td>150.574143</td>\n",
       "      <td>153.784306</td>\n",
       "      <td>3176.691857</td>\n",
       "      <td>2.941242e+10</td>\n",
       "      <td>0.023285</td>\n",
       "      <td>0.058303</td>\n",
       "      <td>1.672122e+05</td>\n",
       "      <td>458.056243</td>\n",
       "    </tr>\n",
       "    <tr>\n",
       "      <th>min</th>\n",
       "      <td>91301.000000</td>\n",
       "      <td>5.000000e+02</td>\n",
       "      <td>1.000000</td>\n",
       "      <td>1.000000</td>\n",
       "      <td>755.000000</td>\n",
       "      <td>0.380000</td>\n",
       "      <td>0.250000</td>\n",
       "      <td>1.630998e+12</td>\n",
       "      <td>34.103786</td>\n",
       "      <td>-118.977646</td>\n",
       "      <td>4.009000e+05</td>\n",
       "      <td>2167.000000</td>\n",
       "    </tr>\n",
       "    <tr>\n",
       "      <th>25%</th>\n",
       "      <td>91320.000000</td>\n",
       "      <td>6.157500e+05</td>\n",
       "      <td>2.000000</td>\n",
       "      <td>2.000000</td>\n",
       "      <td>1138.000000</td>\n",
       "      <td>522.390000</td>\n",
       "      <td>1930.500000</td>\n",
       "      <td>1.648710e+12</td>\n",
       "      <td>34.165672</td>\n",
       "      <td>-118.909385</td>\n",
       "      <td>6.844500e+05</td>\n",
       "      <td>3400.500000</td>\n",
       "    </tr>\n",
       "    <tr>\n",
       "      <th>50%</th>\n",
       "      <td>91360.000000</td>\n",
       "      <td>7.250000e+05</td>\n",
       "      <td>3.000000</td>\n",
       "      <td>2.000000</td>\n",
       "      <td>1234.000000</td>\n",
       "      <td>599.560000</td>\n",
       "      <td>4356.000000</td>\n",
       "      <td>1.669709e+12</td>\n",
       "      <td>34.181423</td>\n",
       "      <td>-118.864190</td>\n",
       "      <td>8.033000e+05</td>\n",
       "      <td>3690.000000</td>\n",
       "    </tr>\n",
       "    <tr>\n",
       "      <th>75%</th>\n",
       "      <td>91361.000000</td>\n",
       "      <td>8.250000e+05</td>\n",
       "      <td>3.000000</td>\n",
       "      <td>2.000000</td>\n",
       "      <td>1318.500000</td>\n",
       "      <td>675.825000</td>\n",
       "      <td>7231.500000</td>\n",
       "      <td>1.699949e+12</td>\n",
       "      <td>34.206575</td>\n",
       "      <td>-118.834520</td>\n",
       "      <td>9.045000e+05</td>\n",
       "      <td>3948.500000</td>\n",
       "    </tr>\n",
       "    <tr>\n",
       "      <th>max</th>\n",
       "      <td>91377.000000</td>\n",
       "      <td>1.750000e+06</td>\n",
       "      <td>5.000000</td>\n",
       "      <td>3.000000</td>\n",
       "      <td>1398.000000</td>\n",
       "      <td>1421.610000</td>\n",
       "      <td>10875.000000</td>\n",
       "      <td>1.725433e+12</td>\n",
       "      <td>34.233402</td>\n",
       "      <td>-118.708470</td>\n",
       "      <td>1.901000e+06</td>\n",
       "      <td>5390.000000</td>\n",
       "    </tr>\n",
       "  </tbody>\n",
       "</table>\n",
       "</div>"
      ],
      "text/plain": [
       "            zipCode         price         bed        bath         sqft  \\\n",
       "count    583.000000  5.830000e+02  583.000000  583.000000   583.000000   \n",
       "mean   91345.332762  7.168015e+05    2.722127    2.006003  1200.303602   \n",
       "std       22.941036  1.924324e+05    0.610595    0.518107   150.574143   \n",
       "min    91301.000000  5.000000e+02    1.000000    1.000000   755.000000   \n",
       "25%    91320.000000  6.157500e+05    2.000000    2.000000  1138.000000   \n",
       "50%    91360.000000  7.250000e+05    3.000000    2.000000  1234.000000   \n",
       "75%    91361.000000  8.250000e+05    3.000000    2.000000  1318.500000   \n",
       "max    91377.000000  1.750000e+06    5.000000    3.000000  1398.000000   \n",
       "\n",
       "        pricePerSf       lotArea  dateSoldNumeric    latitude   longitude  \\\n",
       "count   583.000000    583.000000     5.830000e+02  583.000000  583.000000   \n",
       "mean    599.950892   4725.925253     1.673910e+12   34.182664 -118.866854   \n",
       "std     153.784306   3176.691857     2.941242e+10    0.023285    0.058303   \n",
       "min       0.380000      0.250000     1.630998e+12   34.103786 -118.977646   \n",
       "25%     522.390000   1930.500000     1.648710e+12   34.165672 -118.909385   \n",
       "50%     599.560000   4356.000000     1.669709e+12   34.181423 -118.864190   \n",
       "75%     675.825000   7231.500000     1.699949e+12   34.206575 -118.834520   \n",
       "max    1421.610000  10875.000000     1.725433e+12   34.233402 -118.708470   \n",
       "\n",
       "          zestimate  rentZestimate  \n",
       "count  5.700000e+02     583.000000  \n",
       "mean   8.041937e+05    3706.756432  \n",
       "std    1.672122e+05     458.056243  \n",
       "min    4.009000e+05    2167.000000  \n",
       "25%    6.844500e+05    3400.500000  \n",
       "50%    8.033000e+05    3690.000000  \n",
       "75%    9.045000e+05    3948.500000  \n",
       "max    1.901000e+06    5390.000000  "
      ]
     },
     "execution_count": 10,
     "metadata": {},
     "output_type": "execute_result"
    }
   ],
   "source": [
    "re_df.describe()"
   ]
  },
  {
   "cell_type": "code",
   "execution_count": 11,
   "id": "abb67ed7-7030-4ede-95aa-49d458b0296e",
   "metadata": {
    "execution": {
     "iopub.execute_input": "2024-09-11T18:24:08.280297Z",
     "iopub.status.busy": "2024-09-11T18:24:08.279843Z",
     "iopub.status.idle": "2024-09-11T18:24:08.290571Z",
     "shell.execute_reply": "2024-09-11T18:24:08.289798Z",
     "shell.execute_reply.started": "2024-09-11T18:24:08.280266Z"
    }
   },
   "outputs": [
    {
     "name": "stdout",
     "output_type": "stream",
     "text": [
      "<class 'pandas.core.frame.DataFrame'>\n",
      "Index: 583 entries, 0 to 123\n",
      "Data columns (total 20 columns):\n",
      " #   Column           Non-Null Count  Dtype  \n",
      "---  ------           --------------  -----  \n",
      " 0   address          583 non-null    object \n",
      " 1   zipCode          583 non-null    int64  \n",
      " 2   city             583 non-null    object \n",
      " 3   state            583 non-null    object \n",
      " 4   price            583 non-null    int64  \n",
      " 5   bed              583 non-null    int64  \n",
      " 6   bath             583 non-null    float64\n",
      " 7   sqft             583 non-null    int64  \n",
      " 8   pricePerSf       583 non-null    float64\n",
      " 9   lotArea          583 non-null    float64\n",
      " 10  lotAreaType      583 non-null    object \n",
      " 11  dateSold         583 non-null    object \n",
      " 12  dateSoldNumeric  583 non-null    int64  \n",
      " 13  zillowUrl        583 non-null    object \n",
      " 14  latitude         583 non-null    float64\n",
      " 15  longitude        583 non-null    float64\n",
      " 16  homeType         583 non-null    object \n",
      " 17  zestimate        570 non-null    float64\n",
      " 18  rentZestimate    583 non-null    int64  \n",
      " 19  imageUrl         583 non-null    object \n",
      "dtypes: float64(6), int64(6), object(8)\n",
      "memory usage: 95.6+ KB\n"
     ]
    }
   ],
   "source": [
    "re_df.info()"
   ]
  },
  {
   "cell_type": "code",
   "execution_count": 12,
   "id": "38dc23dc-0086-4acd-852a-bea7ce0812cf",
   "metadata": {
    "execution": {
     "iopub.execute_input": "2024-09-11T18:24:09.015201Z",
     "iopub.status.busy": "2024-09-11T18:24:09.014585Z",
     "iopub.status.idle": "2024-09-11T18:24:09.028188Z",
     "shell.execute_reply": "2024-09-11T18:24:09.027368Z",
     "shell.execute_reply.started": "2024-09-11T18:24:09.015165Z"
    }
   },
   "outputs": [
    {
     "data": {
      "text/html": [
       "<div>\n",
       "<style scoped>\n",
       "    .dataframe tbody tr th:only-of-type {\n",
       "        vertical-align: middle;\n",
       "    }\n",
       "\n",
       "    .dataframe tbody tr th {\n",
       "        vertical-align: top;\n",
       "    }\n",
       "\n",
       "    .dataframe thead th {\n",
       "        text-align: right;\n",
       "    }\n",
       "</style>\n",
       "<table border=\"1\" class=\"dataframe\">\n",
       "  <thead>\n",
       "    <tr style=\"text-align: right;\">\n",
       "      <th></th>\n",
       "      <th>dateSold</th>\n",
       "      <th>dateSoldNumeric</th>\n",
       "    </tr>\n",
       "  </thead>\n",
       "  <tbody>\n",
       "    <tr>\n",
       "      <th>158</th>\n",
       "      <td>1/10/2023</td>\n",
       "      <td>1673337600000</td>\n",
       "    </tr>\n",
       "    <tr>\n",
       "      <th>200</th>\n",
       "      <td>1/11/2022</td>\n",
       "      <td>1641888000000</td>\n",
       "    </tr>\n",
       "    <tr>\n",
       "      <th>315</th>\n",
       "      <td>1/11/2022</td>\n",
       "      <td>1641888000000</td>\n",
       "    </tr>\n",
       "    <tr>\n",
       "      <th>51</th>\n",
       "      <td>1/11/2024</td>\n",
       "      <td>1704960000000</td>\n",
       "    </tr>\n",
       "    <tr>\n",
       "      <th>50</th>\n",
       "      <td>1/11/2024</td>\n",
       "      <td>1704960000000</td>\n",
       "    </tr>\n",
       "  </tbody>\n",
       "</table>\n",
       "</div>"
      ],
      "text/plain": [
       "      dateSold  dateSoldNumeric\n",
       "158  1/10/2023    1673337600000\n",
       "200  1/11/2022    1641888000000\n",
       "315  1/11/2022    1641888000000\n",
       "51   1/11/2024    1704960000000\n",
       "50   1/11/2024    1704960000000"
      ]
     },
     "execution_count": 12,
     "metadata": {},
     "output_type": "execute_result"
    }
   ],
   "source": [
    "re_df[['dateSold', 'dateSoldNumeric']].sort_values('dateSold').head()"
   ]
  },
  {
   "cell_type": "code",
   "execution_count": 13,
   "id": "1f039379-19c0-4d47-9596-93713e95f7d3",
   "metadata": {
    "execution": {
     "iopub.execute_input": "2024-09-11T18:24:09.827308Z",
     "iopub.status.busy": "2024-09-11T18:24:09.826690Z",
     "iopub.status.idle": "2024-09-11T18:24:09.846157Z",
     "shell.execute_reply": "2024-09-11T18:24:09.845494Z",
     "shell.execute_reply.started": "2024-09-11T18:24:09.827253Z"
    }
   },
   "outputs": [
    {
     "data": {
      "text/html": [
       "<div>\n",
       "<style scoped>\n",
       "    .dataframe tbody tr th:only-of-type {\n",
       "        vertical-align: middle;\n",
       "    }\n",
       "\n",
       "    .dataframe tbody tr th {\n",
       "        vertical-align: top;\n",
       "    }\n",
       "\n",
       "    .dataframe thead th {\n",
       "        text-align: right;\n",
       "    }\n",
       "</style>\n",
       "<table border=\"1\" class=\"dataframe\">\n",
       "  <thead>\n",
       "    <tr style=\"text-align: right;\">\n",
       "      <th></th>\n",
       "      <th>dateSold</th>\n",
       "      <th>dateSoldNumeric</th>\n",
       "    </tr>\n",
       "  </thead>\n",
       "  <tbody>\n",
       "    <tr>\n",
       "      <th>402</th>\n",
       "      <td>2021-09-07</td>\n",
       "      <td>1630998000000</td>\n",
       "    </tr>\n",
       "    <tr>\n",
       "      <th>138</th>\n",
       "      <td>2021-09-08</td>\n",
       "      <td>1631084400000</td>\n",
       "    </tr>\n",
       "    <tr>\n",
       "      <th>235</th>\n",
       "      <td>2021-09-09</td>\n",
       "      <td>1631170800000</td>\n",
       "    </tr>\n",
       "    <tr>\n",
       "      <th>136</th>\n",
       "      <td>2021-09-09</td>\n",
       "      <td>1631170800000</td>\n",
       "    </tr>\n",
       "    <tr>\n",
       "      <th>400</th>\n",
       "      <td>2021-09-09</td>\n",
       "      <td>1631170800000</td>\n",
       "    </tr>\n",
       "  </tbody>\n",
       "</table>\n",
       "</div>"
      ],
      "text/plain": [
       "      dateSold  dateSoldNumeric\n",
       "402 2021-09-07    1630998000000\n",
       "138 2021-09-08    1631084400000\n",
       "235 2021-09-09    1631170800000\n",
       "136 2021-09-09    1631170800000\n",
       "400 2021-09-09    1631170800000"
      ]
     },
     "execution_count": 13,
     "metadata": {},
     "output_type": "execute_result"
    }
   ],
   "source": [
    "re_df['dateSold'] = pd.to_datetime(re_df['dateSold'], format=\"%m/%d/%Y\")\n",
    "\n",
    "re_df[['dateSold','dateSoldNumeric']].sort_values('dateSold').head()"
   ]
  },
  {
   "cell_type": "code",
   "execution_count": 14,
   "id": "bdb2d78e-bda7-48fc-bb59-14af4a8f9a77",
   "metadata": {
    "execution": {
     "iopub.execute_input": "2024-09-11T18:24:11.341903Z",
     "iopub.status.busy": "2024-09-11T18:24:11.341422Z",
     "iopub.status.idle": "2024-09-11T18:24:11.349926Z",
     "shell.execute_reply": "2024-09-11T18:24:11.349227Z",
     "shell.execute_reply.started": "2024-09-11T18:24:11.341878Z"
    }
   },
   "outputs": [
    {
     "data": {
      "text/plain": [
       "array(['Calabasas', 'Agoura Hills', 'Thousand Oaks', 'Newbury Park',\n",
       "       'Westlake Village', 'Oak Park'], dtype=object)"
      ]
     },
     "execution_count": 14,
     "metadata": {},
     "output_type": "execute_result"
    }
   ],
   "source": [
    "re_df['city'].unique()"
   ]
  },
  {
   "cell_type": "code",
   "execution_count": 45,
   "id": "26ee3ddd-a0d0-469f-84bf-4d13f98304c3",
   "metadata": {
    "execution": {
     "iopub.execute_input": "2024-09-11T18:22:50.996635Z",
     "iopub.status.busy": "2024-09-11T18:22:50.995615Z",
     "iopub.status.idle": "2024-09-11T18:22:51.053372Z",
     "shell.execute_reply": "2024-09-11T18:22:51.050235Z",
     "shell.execute_reply.started": "2024-09-11T18:22:50.996578Z"
    }
   },
   "outputs": [
    {
     "data": {
      "text/plain": [
       "<Axes: xlabel='price', ylabel='city'>"
      ]
     },
     "execution_count": 45,
     "metadata": {},
     "output_type": "execute_result"
    }
   ],
   "source": [
    "sns.boxplot(data = re_df[['price', 'city']], x='price', y='city')\n"
   ]
  },
  {
   "cell_type": "code",
   "execution_count": 18,
   "id": "1828ab72-37d7-4205-af0b-45110b7a4910",
   "metadata": {
    "execution": {
     "iopub.execute_input": "2024-09-11T18:24:59.388081Z",
     "iopub.status.busy": "2024-09-11T18:24:59.387171Z",
     "iopub.status.idle": "2024-09-11T18:24:59.505998Z",
     "shell.execute_reply": "2024-09-11T18:24:59.505645Z",
     "shell.execute_reply.started": "2024-09-11T18:24:59.388027Z"
    }
   },
   "outputs": [
    {
     "data": {
      "text/plain": [
       "<Axes: xlabel='price', ylabel='city'>"
      ]
     },
     "execution_count": 18,
     "metadata": {},
     "output_type": "execute_result"
    },
    {
     "data": {
      "image/png": "[encoded data removed]",
      "text/plain": [
       "<Figure size 640x480 with 1 Axes>"
      ]
     },
     "metadata": {},
     "output_type": "display_data"
    }
   ],
   "source": [
    "sns.boxplot(re_df, x='price', y='city')\n",
    "\n"
   ]
  },
  {
   "cell_type": "code",
   "execution_count": 28,
   "id": "0d75af00-d965-4a4a-91c5-49d7d84cfd81",
   "metadata": {
    "execution": {
     "iopub.execute_input": "2024-09-11T18:42:07.006115Z",
     "iopub.status.busy": "2024-09-11T18:42:07.005372Z",
     "iopub.status.idle": "2024-09-11T18:42:07.016736Z",
     "shell.execute_reply": "2024-09-11T18:42:07.015987Z",
     "shell.execute_reply.started": "2024-09-11T18:42:07.006082Z"
    }
   },
   "outputs": [
    {
     "data": {
      "text/plain": [
       "(563, 20)"
      ]
     },
     "execution_count": 28,
     "metadata": {},
     "output_type": "execute_result"
    }
   ],
   "source": [
    "pd.set_option('display.max_rows', 100)\n",
    "\n",
    "\n",
    "re_df = re_df[re_df['price']>250000]\n",
    "re_df = re_df[re_df['price']<1250000]\n",
    "re_df.shape"
   ]
  },
  {
   "cell_type": "code",
   "execution_count": 29,
   "id": "f7e787d3-dd0e-4d79-8c3c-40e0e0bfeab3",
   "metadata": {
    "execution": {
     "iopub.execute_input": "2024-09-11T18:42:25.095655Z",
     "iopub.status.busy": "2024-09-11T18:42:25.094696Z",
     "iopub.status.idle": "2024-09-11T18:42:25.204574Z",
     "shell.execute_reply": "2024-09-11T18:42:25.203237Z",
     "shell.execute_reply.started": "2024-09-11T18:42:25.095604Z"
    }
   },
   "outputs": [
    {
     "data": {
      "text/plain": [
       "<Axes: xlabel='price', ylabel='city'>"
      ]
     },
     "execution_count": 29,
     "metadata": {},
     "output_type": "execute_result"
    },
    {
     "data": {
      "image/png": "[encoded data removed]",
      "text/plain": [
       "<Figure size 640x480 with 1 Axes>"
      ]
     },
     "metadata": {},
     "output_type": "display_data"
    }
   ],
   "source": [
    "sns.boxplot(re_df, x='price', y='city')"
   ]
  },
  {
   "cell_type": "code",
   "execution_count": 33,
   "id": "9ab3c67f-fc1f-4928-9476-9f65bf3000f4",
   "metadata": {
    "execution": {
     "iopub.execute_input": "2024-09-11T18:46:05.000845Z",
     "iopub.status.busy": "2024-09-11T18:46:05Z",
     "iopub.status.idle": "2024-09-11T18:46:05.010476Z",
     "shell.execute_reply": "2024-09-11T18:46:05.009754Z",
     "shell.execute_reply.started": "2024-09-11T18:46:05.000786Z"
    }
   },
   "outputs": [
    {
     "data": {
      "text/plain": [
       "city\n",
       "Agoura Hills         28\n",
       "Calabasas             4\n",
       "Newbury Park          7\n",
       "Oak Park             39\n",
       "Thousand Oaks       427\n",
       "Westlake Village     58\n",
       "Name: city, dtype: int64"
      ]
     },
     "execution_count": 33,
     "metadata": {},
     "output_type": "execute_result"
    }
   ],
   "source": [
    "re_df.groupby('city')['city'].count()"
   ]
  },
  {
   "cell_type": "code",
   "execution_count": 38,
   "id": "a1de2879-9c7f-4c85-bdaf-4e2b538eb801",
   "metadata": {
    "execution": {
     "iopub.execute_input": "2024-09-11T18:53:13.016780Z",
     "iopub.status.busy": "2024-09-11T18:53:13.016008Z",
     "iopub.status.idle": "2024-09-11T18:53:13.117941Z",
     "shell.execute_reply": "2024-09-11T18:53:13.117575Z",
     "shell.execute_reply.started": "2024-09-11T18:53:13.016745Z"
    }
   },
   "outputs": [
    {
     "name": "stderr",
     "output_type": "stream",
     "text": [
      "/opt/anaconda3/envs/dev3_10/lib/python3.10/site-packages/seaborn/_oldcore.py:1119: FutureWarning: use_inf_as_na option is deprecated and will be removed in a future version. Convert inf values to NaN before operating instead.\n",
      "  with pd.option_context('mode.use_inf_as_na', True):\n"
     ]
    },
    {
     "data": {
      "text/plain": [
       "<Axes: xlabel='price', ylabel='Count'>"
      ]
     },
     "execution_count": 38,
     "metadata": {},
     "output_type": "execute_result"
    },
    {
     "data": {
      "image/png": "[encoded data removed]",
      "text/plain": [
       "<Figure size 640x480 with 1 Axes>"
      ]
     },
     "metadata": {},
     "output_type": "display_data"
    }
   ],
   "source": [
    "sns.histplot(re_df['price'][re_df['dateSold']>'2023-09-05'], bins=25)"
   ]
  },
  {
   "cell_type": "code",
   "execution_count": 40,
   "id": "91bc3958-4d55-4d6e-b27f-2083c7ca93ba",
   "metadata": {
    "execution": {
     "iopub.execute_input": "2024-09-11T18:53:40.785893Z",
     "iopub.status.busy": "2024-09-11T18:53:40.785184Z",
     "iopub.status.idle": "2024-09-11T18:53:40.812324Z",
     "shell.execute_reply": "2024-09-11T18:53:40.811802Z",
     "shell.execute_reply.started": "2024-09-11T18:53:40.785839Z"
    }
   },
   "outputs": [
    {
     "data": {
      "text/html": [
       "<div>\n",
       "<style scoped>\n",
       "    .dataframe tbody tr th:only-of-type {\n",
       "        vertical-align: middle;\n",
       "    }\n",
       "\n",
       "    .dataframe tbody tr th {\n",
       "        vertical-align: top;\n",
       "    }\n",
       "\n",
       "    .dataframe thead th {\n",
       "        text-align: right;\n",
       "    }\n",
       "</style>\n",
       "<table border=\"1\" class=\"dataframe\">\n",
       "  <thead>\n",
       "    <tr style=\"text-align: right;\">\n",
       "      <th></th>\n",
       "      <th>address</th>\n",
       "      <th>zipCode</th>\n",
       "      <th>city</th>\n",
       "      <th>state</th>\n",
       "      <th>price</th>\n",
       "      <th>bed</th>\n",
       "      <th>bath</th>\n",
       "      <th>sqft</th>\n",
       "      <th>pricePerSf</th>\n",
       "      <th>lotArea</th>\n",
       "      <th>lotAreaType</th>\n",
       "      <th>dateSold</th>\n",
       "      <th>dateSoldNumeric</th>\n",
       "      <th>zillowUrl</th>\n",
       "      <th>latitude</th>\n",
       "      <th>longitude</th>\n",
       "      <th>homeType</th>\n",
       "      <th>zestimate</th>\n",
       "      <th>rentZestimate</th>\n",
       "      <th>imageUrl</th>\n",
       "    </tr>\n",
       "  </thead>\n",
       "  <tbody>\n",
       "    <tr>\n",
       "      <th>7</th>\n",
       "      <td>5429 Fairview Pl, Agoura Hills, CA 91301</td>\n",
       "      <td>91301</td>\n",
       "      <td>Agoura Hills</td>\n",
       "      <td>CA</td>\n",
       "      <td>1130000</td>\n",
       "      <td>2</td>\n",
       "      <td>1.0</td>\n",
       "      <td>880</td>\n",
       "      <td>1284.09</td>\n",
       "      <td>0.588361</td>\n",
       "      <td>acres</td>\n",
       "      <td>2024-07-11</td>\n",
       "      <td>1720681200000</td>\n",
       "      <td>https://zillow.com/homedetails/5429-Fairview-Pl-Agoura-Hills-CA-91301/19888787_zpid/</td>\n",
       "      <td>34.148880</td>\n",
       "      <td>-118.742370</td>\n",
       "      <td>SINGLE_FAMILY</td>\n",
       "      <td>1133500.0</td>\n",
       "      <td>3330</td>\n",
       "      <td>https://photos.zillowstatic.com/fp/ea96f246d3d49784879e16604572bbdb-p_e.jpg</td>\n",
       "    </tr>\n",
       "    <tr>\n",
       "      <th>11</th>\n",
       "      <td>5666 Slicers Cir, Agoura Hills, CA 91301</td>\n",
       "      <td>91301</td>\n",
       "      <td>Agoura Hills</td>\n",
       "      <td>CA</td>\n",
       "      <td>910000</td>\n",
       "      <td>3</td>\n",
       "      <td>2.0</td>\n",
       "      <td>1218</td>\n",
       "      <td>747.13</td>\n",
       "      <td>3567.000000</td>\n",
       "      <td>sqft</td>\n",
       "      <td>2024-06-07</td>\n",
       "      <td>1717743600000</td>\n",
       "      <td>https://zillow.com/homedetails/5666-Slicers-Cir-Agoura-Hills-CA-91301/19888003_zpid/</td>\n",
       "      <td>34.154022</td>\n",
       "      <td>-118.790260</td>\n",
       "      <td>SINGLE_FAMILY</td>\n",
       "      <td>913200.0</td>\n",
       "      <td>4205</td>\n",
       "      <td>https://photos.zillowstatic.com/fp/8db0d9fb376dbd7a19b9e6a7ed0e4322-p_e.jpg</td>\n",
       "    </tr>\n",
       "    <tr>\n",
       "      <th>15</th>\n",
       "      <td>5765 Lake Lindero Dr, Agoura Hills, CA 91301</td>\n",
       "      <td>91301</td>\n",
       "      <td>Agoura Hills</td>\n",
       "      <td>CA</td>\n",
       "      <td>995000</td>\n",
       "      <td>3</td>\n",
       "      <td>3.0</td>\n",
       "      <td>1320</td>\n",
       "      <td>753.79</td>\n",
       "      <td>4187.000000</td>\n",
       "      <td>sqft</td>\n",
       "      <td>2024-04-29</td>\n",
       "      <td>1714374000000</td>\n",
       "      <td>https://zillow.com/homedetails/5765-Lake-Lindero-Dr-Agoura-Hills-CA-91301/19889270_zpid/</td>\n",
       "      <td>34.156647</td>\n",
       "      <td>-118.789030</td>\n",
       "      <td>SINGLE_FAMILY</td>\n",
       "      <td>999400.0</td>\n",
       "      <td>4602</td>\n",
       "      <td>https://photos.zillowstatic.com/fp/cd1fefc524ef7e5e12ce653d569445b4-p_e.jpg</td>\n",
       "    </tr>\n",
       "    <tr>\n",
       "      <th>20</th>\n",
       "      <td>26825 Cactus Trl, Calabasas, CA 91301</td>\n",
       "      <td>91301</td>\n",
       "      <td>Calabasas</td>\n",
       "      <td>CA</td>\n",
       "      <td>1065000</td>\n",
       "      <td>3</td>\n",
       "      <td>2.0</td>\n",
       "      <td>1355</td>\n",
       "      <td>785.98</td>\n",
       "      <td>4165.000000</td>\n",
       "      <td>sqft</td>\n",
       "      <td>2024-03-28</td>\n",
       "      <td>1711609200000</td>\n",
       "      <td>https://zillow.com/homedetails/26825-Cactus-Trl-Calabasas-CA-91301/19894261_zpid/</td>\n",
       "      <td>34.132225</td>\n",
       "      <td>-118.709250</td>\n",
       "      <td>SINGLE_FAMILY</td>\n",
       "      <td>1072300.0</td>\n",
       "      <td>4883</td>\n",
       "      <td>https://photos.zillowstatic.com/fp/814b933c74aea0af1b1e4353664662b1-p_e.jpg</td>\n",
       "    </tr>\n",
       "    <tr>\n",
       "      <th>22</th>\n",
       "      <td>30541 Canwood St, Agoura Hills, CA 91301</td>\n",
       "      <td>91301</td>\n",
       "      <td>Agoura Hills</td>\n",
       "      <td>CA</td>\n",
       "      <td>560000</td>\n",
       "      <td>3</td>\n",
       "      <td>2.0</td>\n",
       "      <td>1038</td>\n",
       "      <td>539.50</td>\n",
       "      <td>1038.000000</td>\n",
       "      <td>sqft</td>\n",
       "      <td>2024-03-15</td>\n",
       "      <td>1710486000000</td>\n",
       "      <td>https://zillow.com/homedetails/30541-Canwood-St-Agoura-Hills-CA-91301/19887676_zpid/</td>\n",
       "      <td>34.147293</td>\n",
       "      <td>-118.786354</td>\n",
       "      <td>TOWNHOUSE</td>\n",
       "      <td>564500.0</td>\n",
       "      <td>3617</td>\n",
       "      <td>https://photos.zillowstatic.com/fp/21e13d87aae938da6c8dd9d9acbf1590-p_e.jpg</td>\n",
       "    </tr>\n",
       "    <tr>\n",
       "      <th>...</th>\n",
       "      <td>...</td>\n",
       "      <td>...</td>\n",
       "      <td>...</td>\n",
       "      <td>...</td>\n",
       "      <td>...</td>\n",
       "      <td>...</td>\n",
       "      <td>...</td>\n",
       "      <td>...</td>\n",
       "      <td>...</td>\n",
       "      <td>...</td>\n",
       "      <td>...</td>\n",
       "      <td>...</td>\n",
       "      <td>...</td>\n",
       "      <td>...</td>\n",
       "      <td>...</td>\n",
       "      <td>...</td>\n",
       "      <td>...</td>\n",
       "      <td>...</td>\n",
       "      <td>...</td>\n",
       "      <td>...</td>\n",
       "    </tr>\n",
       "    <tr>\n",
       "      <th>22</th>\n",
       "      <td>1003 Thistlegate Rd, Oak Park, CA 91377</td>\n",
       "      <td>91377</td>\n",
       "      <td>Oak Park</td>\n",
       "      <td>CA</td>\n",
       "      <td>760000</td>\n",
       "      <td>2</td>\n",
       "      <td>2.0</td>\n",
       "      <td>1146</td>\n",
       "      <td>663.18</td>\n",
       "      <td>2524.000000</td>\n",
       "      <td>sqft</td>\n",
       "      <td>2024-02-28</td>\n",
       "      <td>1709107200000</td>\n",
       "      <td>https://zillow.com/homedetails/1003-Thistlegate-Rd-Oak-Park-CA-91377/16495989_zpid/</td>\n",
       "      <td>34.183000</td>\n",
       "      <td>-118.761080</td>\n",
       "      <td>TOWNHOUSE</td>\n",
       "      <td>773100.0</td>\n",
       "      <td>3550</td>\n",
       "      <td>https://photos.zillowstatic.com/fp/60431636e2712113be7d79d15b8da22a-p_e.jpg</td>\n",
       "    </tr>\n",
       "    <tr>\n",
       "      <th>27</th>\n",
       "      <td>5785 Oak Bank Trl UNIT 105, Oak Park, CA 91377</td>\n",
       "      <td>91377</td>\n",
       "      <td>Oak Park</td>\n",
       "      <td>CA</td>\n",
       "      <td>625000</td>\n",
       "      <td>2</td>\n",
       "      <td>3.0</td>\n",
       "      <td>1244</td>\n",
       "      <td>502.41</td>\n",
       "      <td>1244.000000</td>\n",
       "      <td>sqft</td>\n",
       "      <td>2024-01-08</td>\n",
       "      <td>1704700800000</td>\n",
       "      <td>https://zillow.com/homedetails/5785-Oak-Bank-Trl-UNIT-105-Oak-Park-CA-91377/16496810_zpid/</td>\n",
       "      <td>34.182700</td>\n",
       "      <td>-118.766365</td>\n",
       "      <td>TOWNHOUSE</td>\n",
       "      <td>643300.0</td>\n",
       "      <td>3676</td>\n",
       "      <td>https://photos.zillowstatic.com/fp/1c7dca4df435fd309b2d28a705cf0e61-p_e.jpg</td>\n",
       "    </tr>\n",
       "    <tr>\n",
       "      <th>28</th>\n",
       "      <td>4771 Via Bensa, Oak Park, CA 91377</td>\n",
       "      <td>91377</td>\n",
       "      <td>Oak Park</td>\n",
       "      <td>CA</td>\n",
       "      <td>729900</td>\n",
       "      <td>2</td>\n",
       "      <td>3.0</td>\n",
       "      <td>1240</td>\n",
       "      <td>588.63</td>\n",
       "      <td>1241.460000</td>\n",
       "      <td>sqft</td>\n",
       "      <td>2023-12-28</td>\n",
       "      <td>1703750400000</td>\n",
       "      <td>https://zillow.com/homedetails/4771-Via-Bensa-Oak-Park-CA-91377/16486770_zpid/</td>\n",
       "      <td>34.177696</td>\n",
       "      <td>-118.786680</td>\n",
       "      <td>TOWNHOUSE</td>\n",
       "      <td>753100.0</td>\n",
       "      <td>3450</td>\n",
       "      <td>https://photos.zillowstatic.com/fp/defcbadaef717d2866839dad6afe1546-p_e.jpg</td>\n",
       "    </tr>\n",
       "    <tr>\n",
       "      <th>29</th>\n",
       "      <td>4790 Gondola Dr, Oak Park, CA 91377</td>\n",
       "      <td>91377</td>\n",
       "      <td>Oak Park</td>\n",
       "      <td>CA</td>\n",
       "      <td>715000</td>\n",
       "      <td>2</td>\n",
       "      <td>3.0</td>\n",
       "      <td>1240</td>\n",
       "      <td>576.61</td>\n",
       "      <td>1240.000000</td>\n",
       "      <td>sqft</td>\n",
       "      <td>2023-12-21</td>\n",
       "      <td>1703145600000</td>\n",
       "      <td>https://zillow.com/homedetails/4790-Gondola-Dr-Oak-Park-CA-91377/16486757_zpid/</td>\n",
       "      <td>34.176780</td>\n",
       "      <td>-118.786420</td>\n",
       "      <td>TOWNHOUSE</td>\n",
       "      <td>738900.0</td>\n",
       "      <td>3450</td>\n",
       "      <td>https://photos.zillowstatic.com/fp/54589b5fecd62c8210a163173833fbcc-p_e.jpg</td>\n",
       "    </tr>\n",
       "    <tr>\n",
       "      <th>40</th>\n",
       "      <td>5692 E Camelia Ln, Oak Park, CA 91377</td>\n",
       "      <td>91377</td>\n",
       "      <td>Oak Park</td>\n",
       "      <td>CA</td>\n",
       "      <td>715000</td>\n",
       "      <td>2</td>\n",
       "      <td>2.0</td>\n",
       "      <td>1294</td>\n",
       "      <td>552.55</td>\n",
       "      <td>2375.000000</td>\n",
       "      <td>sqft</td>\n",
       "      <td>2023-09-13</td>\n",
       "      <td>1694588400000</td>\n",
       "      <td>https://zillow.com/homedetails/5692-E-Camelia-Ln-Oak-Park-CA-91377/16494942_zpid/</td>\n",
       "      <td>34.171295</td>\n",
       "      <td>-118.768310</td>\n",
       "      <td>SINGLE_FAMILY</td>\n",
       "      <td>750900.0</td>\n",
       "      <td>3601</td>\n",
       "      <td>https://photos.zillowstatic.com/fp/39d7244b66b8af0681bd9de1909a8b46-p_e.jpg</td>\n",
       "    </tr>\n",
       "  </tbody>\n",
       "</table>\n",
       "<p>166 rows × 20 columns</p>\n",
       "</div>"
      ],
      "text/plain": [
       "                                           address  zipCode          city  \\\n",
       "7         5429 Fairview Pl, Agoura Hills, CA 91301    91301  Agoura Hills   \n",
       "11        5666 Slicers Cir, Agoura Hills, CA 91301    91301  Agoura Hills   \n",
       "15    5765 Lake Lindero Dr, Agoura Hills, CA 91301    91301  Agoura Hills   \n",
       "20           26825 Cactus Trl, Calabasas, CA 91301    91301     Calabasas   \n",
       "22        30541 Canwood St, Agoura Hills, CA 91301    91301  Agoura Hills   \n",
       "..                                             ...      ...           ...   \n",
       "22         1003 Thistlegate Rd, Oak Park, CA 91377    91377      Oak Park   \n",
       "27  5785 Oak Bank Trl UNIT 105, Oak Park, CA 91377    91377      Oak Park   \n",
       "28              4771 Via Bensa, Oak Park, CA 91377    91377      Oak Park   \n",
       "29             4790 Gondola Dr, Oak Park, CA 91377    91377      Oak Park   \n",
       "40           5692 E Camelia Ln, Oak Park, CA 91377    91377      Oak Park   \n",
       "\n",
       "   state    price  bed  bath  sqft  pricePerSf      lotArea lotAreaType  \\\n",
       "7     CA  1130000    2   1.0   880     1284.09     0.588361       acres   \n",
       "11    CA   910000    3   2.0  1218      747.13  3567.000000        sqft   \n",
       "15    CA   995000    3   3.0  1320      753.79  4187.000000        sqft   \n",
       "20    CA  1065000    3   2.0  1355      785.98  4165.000000        sqft   \n",
       "22    CA   560000    3   2.0  1038      539.50  1038.000000        sqft   \n",
       "..   ...      ...  ...   ...   ...         ...          ...         ...   \n",
       "22    CA   760000    2   2.0  1146      663.18  2524.000000        sqft   \n",
       "27    CA   625000    2   3.0  1244      502.41  1244.000000        sqft   \n",
       "28    CA   729900    2   3.0  1240      588.63  1241.460000        sqft   \n",
       "29    CA   715000    2   3.0  1240      576.61  1240.000000        sqft   \n",
       "40    CA   715000    2   2.0  1294      552.55  2375.000000        sqft   \n",
       "\n",
       "     dateSold  dateSoldNumeric  \\\n",
       "7  2024-07-11    1720681200000   \n",
       "11 2024-06-07    1717743600000   \n",
       "15 2024-04-29    1714374000000   \n",
       "20 2024-03-28    1711609200000   \n",
       "22 2024-03-15    1710486000000   \n",
       "..        ...              ...   \n",
       "22 2024-02-28    1709107200000   \n",
       "27 2024-01-08    1704700800000   \n",
       "28 2023-12-28    1703750400000   \n",
       "29 2023-12-21    1703145600000   \n",
       "40 2023-09-13    1694588400000   \n",
       "\n",
       "                                                                                     zillowUrl  \\\n",
       "7         https://zillow.com/homedetails/5429-Fairview-Pl-Agoura-Hills-CA-91301/19888787_zpid/   \n",
       "11        https://zillow.com/homedetails/5666-Slicers-Cir-Agoura-Hills-CA-91301/19888003_zpid/   \n",
       "15    https://zillow.com/homedetails/5765-Lake-Lindero-Dr-Agoura-Hills-CA-91301/19889270_zpid/   \n",
       "20           https://zillow.com/homedetails/26825-Cactus-Trl-Calabasas-CA-91301/19894261_zpid/   \n",
       "22        https://zillow.com/homedetails/30541-Canwood-St-Agoura-Hills-CA-91301/19887676_zpid/   \n",
       "..                                                                                         ...   \n",
       "22         https://zillow.com/homedetails/1003-Thistlegate-Rd-Oak-Park-CA-91377/16495989_zpid/   \n",
       "27  https://zillow.com/homedetails/5785-Oak-Bank-Trl-UNIT-105-Oak-Park-CA-91377/16496810_zpid/   \n",
       "28              https://zillow.com/homedetails/4771-Via-Bensa-Oak-Park-CA-91377/16486770_zpid/   \n",
       "29             https://zillow.com/homedetails/4790-Gondola-Dr-Oak-Park-CA-91377/16486757_zpid/   \n",
       "40           https://zillow.com/homedetails/5692-E-Camelia-Ln-Oak-Park-CA-91377/16494942_zpid/   \n",
       "\n",
       "     latitude   longitude       homeType  zestimate  rentZestimate  \\\n",
       "7   34.148880 -118.742370  SINGLE_FAMILY  1133500.0           3330   \n",
       "11  34.154022 -118.790260  SINGLE_FAMILY   913200.0           4205   \n",
       "15  34.156647 -118.789030  SINGLE_FAMILY   999400.0           4602   \n",
       "20  34.132225 -118.709250  SINGLE_FAMILY  1072300.0           4883   \n",
       "22  34.147293 -118.786354      TOWNHOUSE   564500.0           3617   \n",
       "..        ...         ...            ...        ...            ...   \n",
       "22  34.183000 -118.761080      TOWNHOUSE   773100.0           3550   \n",
       "27  34.182700 -118.766365      TOWNHOUSE   643300.0           3676   \n",
       "28  34.177696 -118.786680      TOWNHOUSE   753100.0           3450   \n",
       "29  34.176780 -118.786420      TOWNHOUSE   738900.0           3450   \n",
       "40  34.171295 -118.768310  SINGLE_FAMILY   750900.0           3601   \n",
       "\n",
       "                                                                       imageUrl  \n",
       "7   https://photos.zillowstatic.com/fp/ea96f246d3d49784879e16604572bbdb-p_e.jpg  \n",
       "11  https://photos.zillowstatic.com/fp/8db0d9fb376dbd7a19b9e6a7ed0e4322-p_e.jpg  \n",
       "15  https://photos.zillowstatic.com/fp/cd1fefc524ef7e5e12ce653d569445b4-p_e.jpg  \n",
       "20  https://photos.zillowstatic.com/fp/814b933c74aea0af1b1e4353664662b1-p_e.jpg  \n",
       "22  https://photos.zillowstatic.com/fp/21e13d87aae938da6c8dd9d9acbf1590-p_e.jpg  \n",
       "..                                                                          ...  \n",
       "22  https://photos.zillowstatic.com/fp/60431636e2712113be7d79d15b8da22a-p_e.jpg  \n",
       "27  https://photos.zillowstatic.com/fp/1c7dca4df435fd309b2d28a705cf0e61-p_e.jpg  \n",
       "28  https://photos.zillowstatic.com/fp/defcbadaef717d2866839dad6afe1546-p_e.jpg  \n",
       "29  https://photos.zillowstatic.com/fp/54589b5fecd62c8210a163173833fbcc-p_e.jpg  \n",
       "40  https://photos.zillowstatic.com/fp/39d7244b66b8af0681bd9de1909a8b46-p_e.jpg  \n",
       "\n",
       "[166 rows x 20 columns]"
      ]
     },
     "execution_count": 40,
     "metadata": {},
     "output_type": "execute_result"
    }
   ],
   "source": [
    "re_df[re_df['dateSold']>'2023-09-05']"
   ]
  },
  {
   "cell_type": "code",
   "execution_count": 41,
   "id": "695b7d1c-3970-4b7b-ac22-9cfffde3e9b6",
   "metadata": {
    "execution": {
     "iopub.execute_input": "2024-09-11T18:55:09.327456Z",
     "iopub.status.busy": "2024-09-11T18:55:09.326686Z",
     "iopub.status.idle": "2024-09-11T18:55:09.334077Z",
     "shell.execute_reply": "2024-09-11T18:55:09.332991Z",
     "shell.execute_reply.started": "2024-09-11T18:55:09.327382Z"
    }
   },
   "outputs": [],
   "source": [
    "re_df_recent = re_df[re_df['dateSold']>'2023-09-05']"
   ]
  },
  {
   "cell_type": "code",
   "execution_count": 47,
   "id": "15063a26-5136-4aaa-b82c-b2e09da316f3",
   "metadata": {
    "execution": {
     "iopub.execute_input": "2024-09-11T19:13:17.629199Z",
     "iopub.status.busy": "2024-09-11T19:13:17.628475Z",
     "iopub.status.idle": "2024-09-11T19:13:17.696998Z",
     "shell.execute_reply": "2024-09-11T19:13:17.696260Z",
     "shell.execute_reply.started": "2024-09-11T19:13:17.629145Z"
    }
   },
   "outputs": [
    {
     "data": {
      "text/plain": [
       "<Axes: xlabel='pricePerSf'>"
      ]
     },
     "execution_count": 47,
     "metadata": {},
     "output_type": "execute_result"
    },
    {
     "data": {
      "image/png": "[encoded data removed]",
      "text/plain": [
       "<Figure size 640x480 with 1 Axes>"
      ]
     },
     "metadata": {},
     "output_type": "display_data"
    }
   ],
   "source": [
    "sns.boxplot(re_df_recent, x='pricePerSf', whis=1.5)"
   ]
  },
  {
   "cell_type": "code",
   "execution_count": 49,
   "id": "e0a05390-2108-4d03-9b1a-c77e228c9a45",
   "metadata": {
    "execution": {
     "iopub.execute_input": "2024-09-11T19:23:03.065962Z",
     "iopub.status.busy": "2024-09-11T19:23:03.065279Z",
     "iopub.status.idle": "2024-09-11T19:23:03.075232Z",
     "shell.execute_reply": "2024-09-11T19:23:03.074378Z",
     "shell.execute_reply.started": "2024-09-11T19:23:03.065909Z"
    }
   },
   "outputs": [
    {
     "name": "stdout",
     "output_type": "stream",
     "text": [
      "503.5075\n",
      "787.895\n"
     ]
    }
   ],
   "source": [
    "# Find the range of values that encompasses 85% of the values\n",
    "# for i in range(10):\n",
    "#     print(np.quantile(a=re_df_recent['pricePerSf'],q=i*.1))\n",
    "range_list = [.075, .925]\n",
    "for i in range_list:\n",
    "    print(np.quantile(a=re_df_recent['pricePerSf'],q=i))"
   ]
  },
  {
   "cell_type": "code",
   "execution_count": 74,
   "id": "a9d2502a-dce8-4374-b58f-35f83873dd23",
   "metadata": {
    "execution": {
     "iopub.execute_input": "2024-09-12T21:18:20.625650Z",
     "iopub.status.busy": "2024-09-12T21:18:20.624895Z",
     "iopub.status.idle": "2024-09-12T21:18:20.719973Z",
     "shell.execute_reply": "2024-09-12T21:18:20.719599Z",
     "shell.execute_reply.started": "2024-09-12T21:18:20.625597Z"
    }
   },
   "outputs": [
    {
     "data": {
      "image/png": "[encoded data removed]",
      "text/plain": [
       "<Figure size 640x480 with 1 Axes>"
      ]
     },
     "metadata": {},
     "output_type": "display_data"
    }
   ],
   "source": [
    "bed_count = re_df_recent.groupby('bed').count().reset_index()\n",
    "\n",
    "bed_count = bed_count[['bed', 'address']]\n",
    "bed_count.columns = ['#beds', 'count']\n",
    "\n",
    "ax = sns.barplot(data=bed_count, x='#beds', y='count', width=.5, palette='Set2')\n",
    "ax.set_title('Starter Homes Sold in the Last Year')\n",
    "ax.set_ylabel('')\n",
    "ax.set_xlabel('Number of Bedrooms')\n",
    "\n",
    "plt.pyplot.savefig('Images/starterhomessold_beds.svg', format='svg')"
   ]
  }
 ],
 "metadata": {
  "kernelspec": {
   "display_name": "Python 3 (ipykernel)",
   "language": "python",
   "name": "python3"
  },
  "language_info": {
   "codemirror_mode": {
    "name": "ipython",
    "version": 3
   },
   "file_extension": ".py",
   "mimetype": "text/x-python",
   "name": "python",
   "nbconvert_exporter": "python",
   "pygments_lexer": "ipython3",
   "version": "3.10.13"
  }
 },
 "nbformat": 4,
 "nbformat_minor": 5
}
