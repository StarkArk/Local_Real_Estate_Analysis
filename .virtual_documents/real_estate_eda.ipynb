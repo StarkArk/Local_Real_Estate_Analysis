








[section title](#section-title)


[section title](#Look-At-The-Data)


# Dependencies
import pandas as pd
import matplotlib.pyplot as plt
import numpy as np
import seaborn as sns
from pathlib import Path
import warnings
import datetime
import matplotlib.dates as mdates





# file path
p = Path.cwd()
p1 = f'{p}/Comp_Crunch_Files/Aug24_Starter_Homes'
p2 = f'{p1}/Aug24_starter_'


# Pull the Zip codes into a list
zipcodes = [91301, 91320, 91360, 91361, 91362, 91377]


# Create a list of dataframes from csv files in repository
df_list = []
for i in range(len(zipcodes)):
    df = pd.read_csv(f'{p2}{zipcodes[i]}.csv')
    df_list.append(df)

df_list[0].head(2)


# join together the list of dataframes
re_df = pd.concat(df_list)

re_df.shape





# Change option setings to view url strings
pd.set_option('max_colwidth', 100)


# Get an overview of the Numeric Data
re_df.loc[:, ~re_df.columns.isin(['zipCode', 'dateSoldNumeric', 'latitude', 'longitude'])].describe() 





# Limit to homes less than 1400 sq ft with at least 2 bedrooms
re_df = re_df[re_df['sqft'] < 1400]

re_df.shape


# Convert dateSold column to Datetime
re_df['dateSold'] = pd.to_datetime(re_df['dateSold'], format="%m/%d/%Y")

re_df[['dateSold','dateSoldNumeric']].sort_values('dateSold').head()


re_df['city'].unique()


# Look for outliers by price
sns.boxplot(re_df, x='price', y='city')





# Limit Price
re_df = re_df[re_df['price']>250000]
re_df = re_df[re_df['price']<1250000]

re_df.shape


# Limit the timeframe from Sept21 to Aug24
re_df = re_df[re_df['dateSold']<'2024-09-01']








sns.boxplot(re_df, x='price', y='city')

plt.title('Price of Starter Homes Sold (Last Three Years)')
plt.xlabel('Price')
plt.ylabel('City')

plt.savefig('Images/pricebycity_last3yrs_boxplot.svg', format='svg')


re_df.groupby('city')['city'].count()








with warnings.catch_warnings():
    warnings.filterwarnings('ignore')
    sns.histplot(re_df['price'][re_df['dateSold']>'2023-08-31'], bins=25)

plt.title('Starter Homes Sold(Sept21 - Aug24)')
plt.xticks(ticks = [400000, 600000, 800000, 1000000],
          labels = ['400', '600', '800', '1000'])
plt.xlabel('Price(Thousands of Dollars)')

plt.savefig('Images/starterhomesoldbyprice_last3yrs.svg', format='svg')


re_df_recent = re_df[re_df['dateSold']>'2023-08-31']





sns.boxplot(re_df_recent, x='pricePerSf', whis=1.5)

plt.title('Starter Homes by Price Per SF (Sept23-Aug24)')
plt.xlabel('Price Per Square Foot')

plt.savefig('Images/pricepersf_boxplot_lastyear.svg', format='svg')





# Find the range of values that encompasses 50/85% of the values in the middle of the distribution. Find mean.
range_list = [.075, .25, .75, .925]
for i in range_list:
    print(np.quantile(a=re_df_recent['pricePerSf'],q=i))

print(f"Mean Value: {np.mean(re_df_recent['pricePerSf'])}")








# Bed Count
bed_count = re_df_recent.groupby('bed').count().reset_index()

bed_count = bed_count[['bed', 'address']]
bed_count.columns = ['#beds', 'count']

ax = sns.barplot(data=bed_count, x='#beds', y='count', width=.5, palette='Set2')
ax.set_title('Starter Homes Sold in the Last Year')
ax.set_ylabel('')
ax.set_xlabel('Number of Bedrooms')

plt.savefig('Images/starterhomessold_beds.svg', format='svg')





city_count = re_df_recent.groupby('city')['city'].count()

# city_count = city_count.reset_index()
city_count_df = pd.DataFrame()
city_count_df['city'] = city_count.index
city_count_df['count'] = city_count.unique()

ax = sns.barplot(city_count_df, x='count', y='city', palette='Set2')
ax.set_xlabel('')
ax.set_ylabel('city')
ax.set_title('Starter Homes Sold in the Last Year')

plt.savefig('Images/starterhomelocation_lastyear.svg', format='svg')





# Baths
prop_count = re_df_recent.groupby('bath')['bath'].count()
    
# city_count = city_count.reset_index()
prop_count_df = pd.DataFrame()
prop_count_df['bath'] = prop_count.index
prop_count_df['count'] = prop_count.unique()

prop_count_df

ax = sns.barplot(prop_count_df, x='bath', y='count', palette='Set2')
ax.set_xlabel('Baths')
ax.set_ylabel('')
ax.set_title('Starter Homes Sold in the Last Year')

plt.show()

plt.savefig('Images/starterhomessold_baths.svg', format='svg')


re_df_recent.columns








# Create some pair grids with the scaled numerical data
recent_snum = re_df_recent[['price','bed','bath','sqft','pricePerSf','lotArea',
       'zestimate','rentZestimate']]

recent_snum = recent_snum[recent_snum['lotArea']>749]


with warnings.catch_warnings():
    warnings.filterwarnings('ignore')
    g = sns.PairGrid(recent_snum[['price','bed','bath','sqft','pricePerSf','lotArea']])
    g.map_diag(sns.histplot)
    g.map_offdiag(sns.scatterplot)


g = sns.PairGrid(recent_snum, vars=['price','bath'], hue='bed')
g.map(sns.scatterplot)


with warnings.catch_warnings():
    warnings.filterwarnings('ignore')
    sns.pairplot(recent_snum[['bed','price','bath','sqft','pricePerSf','lotArea']], hue='bath', palette='GnBu_d', height=1.5)





# Find ratio of Props for each Bed/Bath Config
df_re_config = recent_snum.groupby(['bed', 'bath']).size()/len(recent_snum)

df_re_config = df_re_config.reset_index()

# create an empty list to hold the bed/bath configurations
bed_bath_config = []

for index, row in df_re_config.iterrows():
    bed_bath_config.append(f'{row["bed"]}, {row["bath"]}')

# add a column
df_re_config['bed_bath_config'] = bed_bath_config
# rename the columns
df_re_config.columns = ['bed', 'bath', 'count_perc', 'bed_bath_config']
# sort the count by percentage
df_re_config = df_re_config.sort_values(by=['count_perc'], ascending=False)
# express as a percentage
df_re_config['count_perc'] = round(df_re_config['count_perc']*100, 1)

# Bar plot sorted by percentage
sns.barplot(data=df_re_config, y='bed_bath_config', x='count_perc', alpha=.8)
plt.title('A 3 Bedroom, 2 Bath Home Is The Most Common')
plt.ylabel('Bed, Bath Combination')
plt.xlabel('Percent of Properties')

plt.savefig('Images/mostcommonconfig_3_2.svg', format='svg')


re_df['dateSold'].sort_values().head()





import datetime
import matplotlib.dates as mdates

# Using the three year time span
re_monthly_df = re_df.copy()

re_monthly_df['year'] = pd.DatetimeIndex(re_monthly_df['dateSold']).year
re_monthly_df['month'] = pd.DatetimeIndex(re_monthly_df['dateSold']).month
# count of properties sold in each month while excluding partial months
re_monthly_df = re_monthly_df.groupby(['year', 'month']).size().reset_index()[1:36]

re_monthly_df_list = []

for index, row in re_monthly_df.iterrows():
    re_monthly_df_list.append(f"{row['year']}/{row['month']}")

re_monthly_df['year_month'] = re_monthly_df_list

re_monthly_df['year_month'] = pd.to_datetime(re_monthly_df['year_month'], format="%Y/%m")
# rename columns
re_monthly_df.columns = ['year', 'month', 'count', 'year_month']

with warnings.catch_warnings():
    warnings.filterwarnings('ignore')
    # Create a line graph to show monthly purchases
    fig, ax = plt.subplots(figsize=(15,6))
    ax = sns.lineplot(data=re_monthly_df, x='year_month', y='count')
    plt.xticks(rotation=30)
    plt.title('Monthly Sales of Starter Homes')
    plt.xlabel('')
    plt.ylabel('Number of Homes Sold')
    # Create a vertical span across the x-axis representing fed rate cycle
    ax.axvspan(mdates.date2num(datetime.datetime(2022, 3, 17)),
           mdates.date2num(datetime.datetime(2023, 7, 26)),
           color='orange', alpha=0.3, label='Rate Hiking Cycle')
    ax.text(.23, .075, 'FED Rate Hiking Cycle',
       fontsize=12, color='grey',
       transform=ax.transAxes)

plt.savefig('Images/monthlysalesstarterhomes.svg', format='svg')





city_count = re_df.groupby('city')['city'].count()

# city_count = city_count.reset_index()
city_count_df = pd.DataFrame()
city_count_df['city'] = city_count.index
city_count_df['count'] = city_count.unique()

ax = sns.barplot(city_count_df, x='count', y='city', palette='Set2')
ax.set_xlabel('')
ax.set_ylabel('city')
ax.set_title('Starter Homes Sold in the Last Year')

plt.savefig('Images/starterhomelocation_last3years.svg', format='svg')
