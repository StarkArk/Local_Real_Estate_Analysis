


# Dependencies
import pandas as pd
import matplotlib as plt
import numpy as np
import seaborn as sns
from pathlib import Path


# file path
p = Path.cwd()
p1 = f'{p}/Comp_Crunch_Files/Aug24_Starter_Homes'
p2 = f'{p1}/Aug24_starter_'


p2


# Enter zip codes into list
zipcodes = [91301, 91320, 91360, 91361, 91362, 91377]


# Create a list of dataframes from csv files in repository
df_list = []
for i in range(len(zipcodes)):
    df = pd.read_csv(f'{p2}{zipcodes[i]}.csv')
    df_list.append(df)

df_list[0].head(2)


# create union style joins for the list of dataframes
re_df = pd.concat(df_list)

re_df.shape


pd.set_option('max_colwidth', 100)


# Explore
re_df.loc[:, ~re_df.columns.isin(['zipCode', 'dateSoldNumeric', 'latitude', 'longitude'])].describe() 
# OR 'dateSoldNumeric' OR 'latitude' OR 'longitude'].describe()


# Limit to homes less than 1400 sq ft with at least 2 bedrooms
re_df = re_df[re_df['sqft'] < 1400]

re_df.shape


re_df.describe()


re_df.info()


re_df[['dateSold', 'dateSoldNumeric']].sort_values('dateSold').head()


re_df['dateSold'] = pd.to_datetime(re_df['dateSold'], format="%m/%d/%Y")

re_df[['dateSold','dateSoldNumeric']].sort_values('dateSold').head()


re_df['city'].unique()


sns.boxplot(data = re_df[['price', 'city']], x='price', y='city')



sns.boxplot(re_df, x='price', y='city')




pd.set_option('display.max_rows', 100)


re_df = re_df[re_df['price']>250000]
re_df = re_df[re_df['price']<1250000]
re_df.shape


sns.boxplot(re_df, x='price', y='city')


re_df.groupby('city')['city'].count()


sns.histplot(re_df['price'][re_df['dateSold']>'2023-09-05'], bins=25)


re_df[re_df['dateSold']>'2023-09-05']


re_df_recent = re_df[re_df['dateSold']>'2023-09-05']


sns.boxplot(re_df_recent, x='pricePerSf', whis=1.5)


# Find the range of values that encompasses 85% of the values
# for i in range(10):
#     print(np.quantile(a=re_df_recent['pricePerSf'],q=i*.1))
range_list = [.075, .925]
for i in range_list:
    print(np.quantile(a=re_df_recent['pricePerSf'],q=i))


re_df_recent['bed'].unique()
