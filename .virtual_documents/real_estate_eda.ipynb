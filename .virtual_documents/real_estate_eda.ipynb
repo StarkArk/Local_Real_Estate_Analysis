


# Dependencies
import pandas as pd
import matplotlib.pyplot as plt
import numpy as np
import seaborn as sns
from pathlib import Path


# file path
p = Path.cwd()
p1 = f'{p}/Comp_Crunch_Files/Aug24_Starter_Homes'
p2 = f'{p1}/Aug24_starter_'


p2


# Enter zip codes into list
zipcodes = [91301, 91320, 91360, 91361, 91362, 91377]


# Create a list of dataframes from csv files in repository
df_list = []
for i in range(len(zipcodes)):
    df = pd.read_csv(f'{p2}{zipcodes[i]}.csv')
    df_list.append(df)

df_list[0].head(2)


# create union style joins for the list of dataframes
re_df = pd.concat(df_list)

re_df.shape


pd.set_option('max_colwidth', 100)


# Explore
re_df.loc[:, ~re_df.columns.isin(['zipCode', 'dateSoldNumeric', 'latitude', 'longitude'])].describe() 
# OR 'dateSoldNumeric' OR 'latitude' OR 'longitude'].describe()


# Limit to homes less than 1400 sq ft with at least 2 bedrooms
re_df = re_df[re_df['sqft'] < 1400]

re_df.shape


re_df.describe()


re_df['city'].unique()


re_df[['dateSold', 'dateSoldNumeric']].sort_values('dateSold').head()


re_df['dateSold'] = pd.to_datetime(re_df['dateSold'], format="%m/%d/%Y")

re_df[['dateSold','dateSoldNumeric']].sort_values('dateSold').head()


re_df['city'].unique()


sns.boxplot(data = re_df[['price', 'city']], x='price', y='city')



sns.boxplot(re_df, x='price', y='city')







pd.set_option('display.max_rows', 100)

re_df = re_df[re_df['price']>250000]
re_df = re_df[re_df['price']<1250000]
re_df.shape


sns.boxplot(re_df, x='price', y='city')


re_df.groupby('city')['city'].count()


sns.histplot(re_df['price'][re_df['dateSold']>'2023-08-31'], bins=25)


re_df[re_df['dateSold']>'2023-09-05']


re_df_recent = re_df[re_df['dateSold']>'2023-09-05']


sns.boxplot(re_df_recent, x='pricePerSf', whis=1.5)


# Find the range of values that encompasses 85% of the values
# for i in range(10):
#     print(np.quantile(a=re_df_recent['pricePerSf'],q=i*.1))
range_list = [.075, .925]
for i in range_list:
    print(np.quantile(a=re_df_recent['pricePerSf'],q=i))


bed_count = re_df_recent.groupby('bed').count().reset_index()

bed_count = bed_count[['bed', 'address']]
bed_count.columns = ['#beds', 'count']

ax = sns.barplot(data=bed_count, x='#beds', y='count', width=.5, palette='Set2')
ax.set_title('Starter Homes Sold in the Last Year')
ax.set_ylabel('')
ax.set_xlabel('Number of Bedrooms')

plt.savefig('Images/starterhomessold_beds.svg', format='svg')





city_count = re_df_recent.groupby('city')['city'].count()

# city_count = city_count.reset_index()
city_count_df = pd.DataFrame()
city_count_df['city'] = city_count.index
city_count_df['count'] = city_count.unique()

ax = sns.barplot(city_count_df, x='count', y='city', palette='Set2')
ax.set_xlabel('')
ax.set_ylabel('city')
ax.set_title('Starter Homes Sold in the Last Year')


# put in the column name as a string
def prop_count(what_col):
    prop_count = re_df_recent.groupby(what_col)[what_col].count()
    
    prop_count_df = pd.DataFrame()
    prop_count_df[what_col] = prop_count.index
    prop_count_df['count'] = prop_count.unique()
    
    ax = sns.barplot(prop_count_df, x='count', y=what_col, palette='Set2')
    ax.set_xlabel('')
    ax.set_ylabel('')
    ax.set_title('Starter Homes Sold in the Last Year')
    plt.show()
    




prop_count = re_df_recent.groupby('bath')['bath'].count()
    
# city_count = city_count.reset_index()
prop_count_df = pd.DataFrame()
prop_count_df['bath'] = prop_count.index
prop_count_df['count'] = prop_count.unique()

prop_count_df

ax = sns.barplot(prop_count_df, x='bath', y='count', palette='Set2')
ax.set_xlabel('Baths')
ax.set_ylabel('')
ax.set_title('Starter Homes Sold in the Last Year')

plt.show()


re_df_recent.columns


col_list = ['city', 'bed', 'bath', 'homeType']
x=0
for i in range(2):
    for j in range(2):
        prop_count = re_df_recent.groupby('city')['city'].count()

        # city_count = city_count.reset_index()
        city_count_df = pd.DataFrame()
        city_count_df['city'] = city_count.index
        city_count_df['count'] = city_count.unique()
        
        ax = sns.barplot(city_count_df, x='count', y='city', palette='Set2')
        ax.set_xlabel('')
        ax.set_ylabel('city')
        ax.set_title('Starter Homes Sold in the Last Year')
        


# Create some pair grids with the scaled numerical data

recent_snum = re_df_recent[['price','bed','bath','sqft','pricePerSf','lotArea',
       'zestimate','rentZestimate']]

recent_snum = recent_snum[recent_snum['lotArea']>749]


g = sns.PairGrid(recent_snum[['price','bed','bath','sqft','pricePerSf','lotArea']])
g.map_diag(sns.histplot)
g.map_offdiag(sns.scatterplot)


g = sns.PairGrid(recent_snum, vars=['price','bath'], hue='bed')
g.map(sns.scatterplot)


sns.pairplot(recent_snum[['bed','price','bath','sqft','pricePerSf','lotArea']], hue='bath', palette='GnBu_d', height=1.5)


df_re_config = recent_snum.groupby(['bed', 'bath']).size()/len(recent_snum)

df_re_config = df_re_config.reset_index()

# create an empty list to hold the bed/bath configurations
bed_bath_config = []

for index, row in df_re_config.iterrows():
    bed_bath_config.append(f'{row["bed"]}, {row["bath"]}')

# add a column
df_re_config['bed_bath_config'] = bed_bath_config
# rename the columns
df_re_config.columns = ['bed', 'bath', 'count_perc', 'bed_bath_config']
# sort the count by percentage
df_re_config = df_re_config.sort_values(by=['count_perc'], ascending=False)
# express as a percentage
df_re_config['count_perc'] = round(df_re_config['count_perc']*100, 1)

sns.barplot(data=df_re_config, y='bed_bath_config', x='count_perc', alpha=.8)
plt.title('A 3 Bedroom, 2 Bath Home Is The Most Common')
plt.ylabel('Bed, Bath Combination')
plt.xlabel('Percent of Properties')


re_df['dateSold'].sort_values().head()


# Using the three year time span
re_monthly_df = re_df.copy()

re_monthly_df['year'] = pd.DatetimeIndex(re_monthly_df['dateSold']).year
re_monthly_df['month'] = pd.DatetimeIndex(re_monthly_df['dateSold']).month
# count properties sold in each month while exclude partial months
re_monthly_df = re_monthly_df.groupby(['year', 'month']).size().reset_index()[1:36]

re_monthly_df_list = []

for index, row in re_monthly_df.iterrows():
    re_monthly_df_list.append(f"{row['year']}/{row['month']}")

re_monthly_df['year_month'] = re_monthly_df_list

re_monthly_df



