


# Dependencies
import pandas as pd
import matplotlib as plt
import numpy as np
import seaborn as sns
from pathlib import Path


# file path
p = Path.cwd()
p1 = f'{p}/Comp_Crunch_Files/Aug24_Starter_Homes'
p2 = f'{p1}/Aug24_starter_'


p2


# Enter zip codes into list
zipcodes = [91301, 91320, 91360, 91361, 91362, 91377]


# Create a list of dataframes from csv files in repository
df_list = []
for i in range(len(zipcodes)):
    df = pd.read_csv(f'{p2}{zipcodes[i]}.csv')
    df_list.append(df)

df_list[0].head(2)


# create union style joins for the list of dataframes
re_df = pd.concat(df_list)

re_df.shape


pd.set_option('max_colwidth', 100)


# Explore
re_df.loc[:, re_df.columns != 'zipCode' OR 'dateSoldNumeric'|'latitude'|'longitude'].describe()


re_df.iloc[ : 5, : 10]


pd.set_option('max_colwidth', 100)
re_df['imageUrl'].sample(1)
# pd.set_option('max_colwidth', 20)
